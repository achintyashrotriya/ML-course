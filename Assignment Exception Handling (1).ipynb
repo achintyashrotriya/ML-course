{
 "cells": [
  {
   "cell_type": "code",
   "execution_count": 1,
   "metadata": {},
   "outputs": [],
   "source": [
    "def divide(num):\n",
    "    try:\n",
    "        return 5/num\n",
    "    except:\n",
    "        return 'exception , division by zero not defined'"
   ]
  },
  {
   "cell_type": "code",
   "execution_count": 2,
   "metadata": {},
   "outputs": [
    {
     "data": {
      "text/plain": [
       "1.6666666666666667"
      ]
     },
     "execution_count": 2,
     "metadata": {},
     "output_type": "execute_result"
    }
   ],
   "source": [
    "divide(3)"
   ]
  },
  {
   "cell_type": "code",
   "execution_count": 3,
   "metadata": {},
   "outputs": [
    {
     "data": {
      "text/plain": [
       "'exception , division by zero not defined'"
      ]
     },
     "execution_count": 3,
     "metadata": {},
     "output_type": "execute_result"
    }
   ],
   "source": [
    "divide(0)"
   ]
  },
  {
   "cell_type": "code",
   "execution_count": 7,
   "metadata": {},
   "outputs": [
    {
     "name": "stdout",
     "output_type": "stream",
     "text": [
      " Americans  play  Baseball \n",
      " Americans  play  Cricket \n",
      " Americans  watch  Baseball \n",
      " Americans  watch  Cricket \n",
      " Indians  play  Baseball \n",
      " Indians  play  Cricket \n",
      " Indians  watch  Baseball \n",
      " Indians  watch  Cricket \n"
     ]
    }
   ],
   "source": [
    "subjects=[ \" Americans \",\" Indians \"]\n",
    "verbs=[\" play \",\" watch \"]\n",
    "objects=[\" Baseball \",\" Cricket \"]\n",
    "for i in range(len(subjects)):\n",
    "    for j in range(len(verbs)):\n",
    "\n",
    "      k = subjects[i] + verbs[j]  +  objects[0]\n",
    "      t = subjects[i] + verbs[j]  +  objects[1]\n",
    "      \n",
    "      print(k + \"\\n\" +t)"
   ]
  },
  {
   "cell_type": "code",
   "execution_count": null,
   "metadata": {},
   "outputs": [],
   "source": []
  }
 ],
 "metadata": {
  "kernelspec": {
   "display_name": "Python 3",
   "language": "python",
   "name": "python3"
  },
  "language_info": {
   "codemirror_mode": {
    "name": "ipython",
    "version": 3
   },
   "file_extension": ".py",
   "mimetype": "text/x-python",
   "name": "python",
   "nbconvert_exporter": "python",
   "pygments_lexer": "ipython3",
   "version": "3.7.6"
  }
 },
 "nbformat": 4,
 "nbformat_minor": 4
}
