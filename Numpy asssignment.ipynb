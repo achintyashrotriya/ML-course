{
 "cells": [
  {
   "cell_type": "code",
   "execution_count": 1,
   "metadata": {},
   "outputs": [
    {
     "data": {
      "text/plain": [
       "array([[ 1,  1,  1],\n",
       "       [ 4,  2,  1],\n",
       "       [ 9,  3,  1],\n",
       "       [25,  5,  1]])"
      ]
     },
     "execution_count": 1,
     "metadata": {},
     "output_type": "execute_result"
    }
   ],
   "source": [
    "import numpy as np\n",
    "x = np.array([1, 2, 3, 5])\n",
    "N = 3\n",
    "np.vander(x, N)"
   ]
  },
  {
   "cell_type": "code",
   "execution_count": 5,
   "metadata": {},
   "outputs": [],
   "source": [
    "def moving_avg(a,k):\n",
    " for i in range(len(a)):\n",
    "  if len(a[i:i+k])==k:\n",
    "   print('moving avg.:',np.array(a[i:i+k]).mean())\n",
    " print('no. of values=', len(a) - k +1 )"
   ]
  },
  {
   "cell_type": "code",
   "execution_count": 6,
   "metadata": {},
   "outputs": [
    {
     "name": "stdout",
     "output_type": "stream",
     "text": [
      "moving avg.: 5.0\n",
      "moving avg.: 4.666666666666667\n",
      "moving avg.: 5.666666666666667\n",
      "moving avg.: 6.666666666666667\n",
      "moving avg.: 9.666666666666666\n",
      "moving avg.: 28.666666666666668\n",
      "moving avg.: 49.333333333333336\n",
      "moving avg.: 72.66666666666667\n",
      "moving avg.: 84.0\n",
      "moving avg.: 93.33333333333333\n",
      "moving avg.: 116.33333333333333\n",
      "no. of values= 11\n"
     ]
    }
   ],
   "source": [
    "moving_avg([3, 5, 7, 2, 8, 10, 11, 65, 72, 81, 99, 100, 150],3)"
   ]
  },
  {
   "cell_type": "code",
   "execution_count": 7,
   "metadata": {},
   "outputs": [
    {
     "name": "stdout",
     "output_type": "stream",
     "text": [
      "moving avg.: 25.0\n",
      "moving avg.: 35.0\n",
      "moving avg.: 45.0\n",
      "moving avg.: 55.0\n",
      "moving avg.: 65.0\n",
      "moving avg.: 75.0\n",
      "moving avg.: 85.0\n",
      "no. of values= 7\n"
     ]
    }
   ],
   "source": [
    "moving_avg([10,20,30,40,50,60,70,80,90,100],4)"
   ]
  },
  {
   "cell_type": "code",
   "execution_count": null,
   "metadata": {},
   "outputs": [],
   "source": []
  },
  {
   "cell_type": "code",
   "execution_count": null,
   "metadata": {},
   "outputs": [],
   "source": []
  }
 ],
 "metadata": {
  "kernelspec": {
   "display_name": "Python 3",
   "language": "python",
   "name": "python3"
  },
  "language_info": {
   "codemirror_mode": {
    "name": "ipython",
    "version": 3
   },
   "file_extension": ".py",
   "mimetype": "text/x-python",
   "name": "python",
   "nbconvert_exporter": "python",
   "pygments_lexer": "ipython3",
   "version": "3.7.6"
  }
 },
 "nbformat": 4,
 "nbformat_minor": 4
}
