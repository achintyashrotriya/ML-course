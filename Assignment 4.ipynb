{
 "cells": [
  {
   "cell_type": "code",
   "execution_count": 1,
   "metadata": {},
   "outputs": [
    {
     "name": "stdout",
     "output_type": "stream",
     "text": [
      "the perimeter of triangle is: 99.5\n",
      "area of triangle is: 1062.3517249480042\n"
     ]
    }
   ],
   "source": [
    "# Q 1.1\n",
    "class Triangle():\n",
    "    def __init__(self,a,b,c):\n",
    "     self.a = a\n",
    "     self.b = b\n",
    "     self.c = c\n",
    "     self.s = (self.a + self.b + self.c) / 2\n",
    "     \n",
    "    def perimeter(self):\n",
    "     print('the perimeter of triangle is:', self.s)\n",
    "    \n",
    "class Area(Triangle):\n",
    "    def find_area(self):\n",
    "        area =  (self.s*(self.s-self.a)*(self.s-self.b)*(self.s-self.c)) ** 0.5\n",
    "        print('area of triangle is:', area) \n",
    "\n",
    "if __name__ == '__main__':\n",
    "    p = Area(85,89,25)\n",
    "    p.perimeter()\n",
    "    p.find_area()"
   ]
  },
  {
   "cell_type": "code",
   "execution_count": 2,
   "metadata": {},
   "outputs": [],
   "source": [
    "# Q1.2\n",
    "def filter_long_words(n,a):\n",
    "\n",
    " k = []\n",
    " for i in range(len(a)):\n",
    "        if len(a[i])>n:\n",
    "          k.append(a[i])\n",
    "        else:\n",
    "            pass\n",
    " return k \n",
    "     \n",
    "    \n",
    "    "
   ]
  },
  {
   "cell_type": "code",
   "execution_count": 3,
   "metadata": {},
   "outputs": [
    {
     "data": {
      "text/plain": [
       "['rrrrrrr', 'kkkkkkkkkkkk', 'zzzzzz']"
      ]
     },
     "execution_count": 3,
     "metadata": {},
     "output_type": "execute_result"
    }
   ],
   "source": [
    "filter_long_words(4,['aaa','bb','cccc','d','rrrrrrr','kkkkkkkkkkkk','zzzzzz'])"
   ]
  },
  {
   "cell_type": "code",
   "execution_count": 4,
   "metadata": {},
   "outputs": [],
   "source": [
    "# Q2.1\n",
    "def len_of_words(k):\n",
    "    a = []\n",
    "    for i in range(len(k)):\n",
    "        a.append(len(k[i]))\n",
    "    return a\n",
    "    "
   ]
  },
  {
   "cell_type": "code",
   "execution_count": 5,
   "metadata": {},
   "outputs": [
    {
     "data": {
      "text/plain": [
       "[4, 2, 1, 5, 3]"
      ]
     },
     "execution_count": 5,
     "metadata": {},
     "output_type": "execute_result"
    }
   ],
   "source": [
    "len_of_words(['kkkk','aa','b','straw','cat'])"
   ]
  },
  {
   "cell_type": "code",
   "execution_count": 6,
   "metadata": {},
   "outputs": [],
   "source": [
    "# Q 2.2\n",
    "def char_is_vowel(char):\n",
    "    vowel = ['a','e','i','o','u']\n",
    "    if char==vowel:\n",
    "        return True\n",
    "    else:\n",
    "        return False"
   ]
  },
  {
   "cell_type": "code",
   "execution_count": 7,
   "metadata": {},
   "outputs": [
    {
     "data": {
      "text/plain": [
       "False"
      ]
     },
     "execution_count": 7,
     "metadata": {},
     "output_type": "execute_result"
    }
   ],
   "source": [
    "char_is_vowel('g')"
   ]
  },
  {
   "cell_type": "code",
   "execution_count": null,
   "metadata": {},
   "outputs": [],
   "source": []
  }
 ],
 "metadata": {
  "kernelspec": {
   "display_name": "Python 3",
   "language": "python",
   "name": "python3"
  },
  "language_info": {
   "codemirror_mode": {
    "name": "ipython",
    "version": 3
   },
   "file_extension": ".py",
   "mimetype": "text/x-python",
   "name": "python",
   "nbconvert_exporter": "python",
   "pygments_lexer": "ipython3",
   "version": "3.7.6"
  }
 },
 "nbformat": 4,
 "nbformat_minor": 4
}
